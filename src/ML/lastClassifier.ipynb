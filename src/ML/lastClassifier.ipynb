{
 "cells": [
  {
   "cell_type": "code",
   "execution_count": 2,
   "metadata": {},
   "outputs": [],
   "source": [
    "import json\n",
    "import pandas as pd\n",
    "\n",
    "def read_json_file(file_path):\n",
    "    with open(file_path, \"r\") as f:\n",
    "        return [json.loads(line) for line in f]\n",
    "\n",
    "def extract_kernel_values(kernel):\n",
    "    values = {}\n",
    "    for i, k in enumerate(kernel):\n",
    "        values[f'm{i}'] = k.get('m', None)\n",
    "        values[f's{i}'] = k.get('s', None)\n",
    "        values[f'h{i}'] = k.get('h', None)\n",
    "    return values\n",
    "\n",
    "# Carica i dati\n",
    "masstestClassifier = pd.DataFrame(read_json_file(\"/Users/alessandrococcia/Desktop/Lenia Tesi/src/masstestClassifier.json\"))\n",
    "results1 = pd.DataFrame(read_json_file(\"/Users/alessandrococcia/Desktop/Lenia Tesi/src/results1.json\"))\n",
    "results2 = pd.DataFrame(read_json_file(\"/Users/alessandrococcia/Desktop/Lenia Tesi/src/results2.json\"))\n",
    "results3 = pd.DataFrame(read_json_file(\"/Users/alessandrococcia/Desktop/Lenia Tesi/src/results3.json\"))\n",
    "data_csv = pd.read_csv(\"/Users/alessandrococcia/Desktop/Lenia Tesi/src/data.csv\")\n",
    "\n",
    "# Estrai i valori di massa finale e gli input m, s, h dai kernels\n",
    "def process_dataframe(df):\n",
    "    kernels = df['kernels']\n",
    "    kernel_values = kernels.apply(extract_kernel_values)\n",
    "    kernel_values_df = pd.DataFrame(kernel_values.tolist())\n",
    "    return pd.concat([df[['mass']], kernel_values_df], axis=1)\n"
   ]
  },
  {
   "cell_type": "code",
   "execution_count": 3,
   "metadata": {},
   "outputs": [],
   "source": [
    "dataset = process_dataframe(masstestClassifier)\n",
    "\n",
    "data_csv.columns = dataset.columns"
   ]
  },
  {
   "cell_type": "code",
   "execution_count": 4,
   "metadata": {},
   "outputs": [
    {
     "name": "stdout",
     "output_type": "stream",
     "text": [
      "               mass       m0       s0       h0       m1       s1       h1  \\\n",
      "0       12452.34101  0.20244  0.16347  0.90716  0.19943  0.16687  0.04334   \n",
      "1       17136.53284  0.27005  0.17568  0.51318  0.14507  0.16200  0.26783   \n",
      "2       13496.90794  0.28203  0.10517  0.96772  0.45769  0.11460  0.02386   \n",
      "3           0.00000  0.25533  0.13721  0.82027  0.49557  0.13667  0.11236   \n",
      "4       15392.89682  0.33085  0.13453  0.93786  0.46549  0.13629  0.01641   \n",
      "...             ...      ...      ...      ...      ...      ...      ...   \n",
      "549800  16780.97296  0.13046  0.10322  0.66479  0.28888  0.10280  0.00176   \n",
      "549801      0.00000  0.37734  0.14764  0.80877  0.23422  0.15367  0.15052   \n",
      "549802   8768.36665  0.27615  0.09260  0.72658  0.21300  0.14067  0.04144   \n",
      "549803      0.00000  0.25549  0.12319  0.38525  0.24009  0.08631  0.27975   \n",
      "549804  14849.05294  0.16262  0.11552  0.07884  0.41430  0.15336  0.35436   \n",
      "\n",
      "             m2       s2       h2  ...      h11      m12      s12      h12  \\\n",
      "0       0.39235  0.03905  0.04950  ...  0.70311  0.41702  0.15900  0.29689   \n",
      "1       0.33755  0.10716  0.21899  ...  0.45142  0.39413  0.10374  0.54858   \n",
      "2       0.32198  0.14598  0.00842  ...  0.80335  0.40559  0.06044  0.19665   \n",
      "3       0.39596  0.03909  0.06737  ...  0.73704  0.17709  0.09880  0.26296   \n",
      "4       0.22136  0.10391  0.04573  ...  0.94356  0.21743  0.11563  0.05644   \n",
      "...         ...      ...      ...  ...      ...      ...      ...      ...   \n",
      "549800  0.36616  0.09886  0.33345  ...  0.42614  0.33386  0.09490  0.57386   \n",
      "549801  0.42785  0.08077  0.04071  ...  0.65351  0.35815  0.10842  0.34649   \n",
      "549802  0.47533  0.04372  0.23198  ...  0.20813  0.12072  0.15803  0.79187   \n",
      "549803  0.17697  0.12183  0.33500  ...  0.69737  0.48067  0.11773  0.30263   \n",
      "549804  0.46669  0.16556  0.56680  ...  0.57929  0.18477  0.14844  0.42071   \n",
      "\n",
      "            m13      s13      h13      m14      s14      h14  \n",
      "0       0.34862  0.15962  0.80870  0.35947  0.11629  0.19130  \n",
      "1       0.18810  0.08933  0.41745  0.10390  0.17154  0.58255  \n",
      "2       0.14061  0.10324  0.82444  0.30376  0.10270  0.17556  \n",
      "3       0.37055  0.06360  0.65201  0.49508  0.09857  0.34799  \n",
      "4       0.27109  0.12902  0.76491  0.14175  0.09910  0.23509  \n",
      "...         ...      ...      ...      ...      ...      ...  \n",
      "549800  0.19666  0.15519  0.27035  0.29155  0.04096  0.72965  \n",
      "549801  0.22581  0.15581  0.30907  0.24855  0.11370  0.69093  \n",
      "549802  0.32165  0.09316  0.82280  0.20035  0.07503  0.17720  \n",
      "549803  0.36252  0.17446  0.36271  0.31104  0.05219  0.63729  \n",
      "549804  0.40170  0.17083  0.82071  0.32621  0.15305  0.17929  \n",
      "\n",
      "[549805 rows x 46 columns]\n"
     ]
    }
   ],
   "source": [
    "# Processa ogni dataframe\n",
    "masstestClassifier_processed = process_dataframe(masstestClassifier)\n",
    "results1_processed = process_dataframe(results1)\n",
    "results2_processed = process_dataframe(results2)\n",
    "results3_processed = process_dataframe(results3)\n",
    "\n",
    "# Concatenare tutti i dataframe\n",
    "final_df = pd.concat([\n",
    "    masstestClassifier_processed,\n",
    "    results1_processed,\n",
    "    results2_processed,\n",
    "    results3_processed,\n",
    "    data_csv\n",
    "], ignore_index=True)\n",
    "\n",
    "# Visualizza il dataframe finale\n",
    "print(final_df)"
   ]
  },
  {
   "cell_type": "code",
   "execution_count": 5,
   "metadata": {},
   "outputs": [],
   "source": [
    "final_df.drop_duplicates(inplace=True)"
   ]
  },
  {
   "cell_type": "code",
   "execution_count": 16,
   "metadata": {},
   "outputs": [
    {
     "data": {
      "text/html": [
       "Tracking run with wandb version 0.17.7"
      ],
      "text/plain": [
       "<IPython.core.display.HTML object>"
      ]
     },
     "metadata": {},
     "output_type": "display_data"
    },
    {
     "data": {
      "text/html": [
       "Run data is saved locally in <code>/Users/alessandrococcia/Desktop/Lenia Tesi/src/ML/wandb/run-20240826_151038-0x1pl8p7</code>"
      ],
      "text/plain": [
       "<IPython.core.display.HTML object>"
      ]
     },
     "metadata": {},
     "output_type": "display_data"
    },
    {
     "data": {
      "text/html": [
       "Syncing run <strong><a href='https://wandb.ai/alecoccia-sapienza-universit-di-roma/Lenia/runs/0x1pl8p7' target=\"_blank\">mass</a></strong> to <a href='https://wandb.ai/alecoccia-sapienza-universit-di-roma/Lenia' target=\"_blank\">Weights & Biases</a> (<a href='https://wandb.me/run' target=\"_blank\">docs</a>)<br/>"
      ],
      "text/plain": [
       "<IPython.core.display.HTML object>"
      ]
     },
     "metadata": {},
     "output_type": "display_data"
    },
    {
     "data": {
      "text/html": [
       " View project at <a href='https://wandb.ai/alecoccia-sapienza-universit-di-roma/Lenia' target=\"_blank\">https://wandb.ai/alecoccia-sapienza-universit-di-roma/Lenia</a>"
      ],
      "text/plain": [
       "<IPython.core.display.HTML object>"
      ]
     },
     "metadata": {},
     "output_type": "display_data"
    },
    {
     "data": {
      "text/html": [
       " View run at <a href='https://wandb.ai/alecoccia-sapienza-universit-di-roma/Lenia/runs/0x1pl8p7' target=\"_blank\">https://wandb.ai/alecoccia-sapienza-universit-di-roma/Lenia/runs/0x1pl8p7</a>"
      ],
      "text/plain": [
       "<IPython.core.display.HTML object>"
      ]
     },
     "metadata": {},
     "output_type": "display_data"
    },
    {
     "name": "stdout",
     "output_type": "stream",
     "text": [
      "Model for mass is training: 99/100 | Test score: 0.8994 | Model score: 0.9065"
     ]
    },
    {
     "data": {
      "text/html": [
       "<style>\n",
       "    table.wandb td:nth-child(1) { padding: 0 10px; text-align: left ; width: auto;} td:nth-child(2) {text-align: left ; width: 100%}\n",
       "    .wandb-row { display: flex; flex-direction: row; flex-wrap: wrap; justify-content: flex-start; width: 100% }\n",
       "    .wandb-col { display: flex; flex-direction: column; flex-basis: 100%; flex: 1; padding: 10px; }\n",
       "    </style>\n",
       "<div class=\"wandb-row\"><div class=\"wandb-col\"><h3>Run history:</h3><br/><table class=\"wandb\"><tr><td>epoca</td><td>▁▁▁▁▂▂▂▂▂▃▃▃▃▃▃▄▄▄▄▄▅▅▅▅▅▅▆▆▆▆▆▇▇▇▇▇▇███</td></tr><tr><td>loss</td><td>█▄▂▂▂▂▁▁▁▁▁▁▁▁▁▁▁▁▁▁▁▁▁▁▁▁▁▁▁▁▁▁▁▁▁▁▁▁▁▁</td></tr><tr><td>testing_score</td><td>▁▄▆▆▆▆▆▇▇▇▇▇▇▇▇████▇████████████████████</td></tr><tr><td>threshold</td><td>▁▁▁▁▁▁▁▁▁▁▁▁▁▁▁▁▁▁▁▁▁▁▁▁▁▁▁▁▁▁▁▁▁▁▁▁▁▁▁▁</td></tr><tr><td>training_score</td><td>▁▄▆▆▆▆▆▇▇▇▇▇▇▇▇▇▇▇█▇████████████████████</td></tr></table><br/></div><div class=\"wandb-col\"><h3>Run summary:</h3><br/><table class=\"wandb\"><tr><td>epoca</td><td>99</td></tr><tr><td>loss</td><td>0.25602</td></tr><tr><td>testing_score</td><td>0.89944</td></tr><tr><td>threshold</td><td>0</td></tr><tr><td>training_score</td><td>0.90648</td></tr></table><br/></div></div>"
      ],
      "text/plain": [
       "<IPython.core.display.HTML object>"
      ]
     },
     "metadata": {},
     "output_type": "display_data"
    },
    {
     "data": {
      "text/html": [
       " View run <strong style=\"color:#cdcd00\">mass</strong> at: <a href='https://wandb.ai/alecoccia-sapienza-universit-di-roma/Lenia/runs/0x1pl8p7' target=\"_blank\">https://wandb.ai/alecoccia-sapienza-universit-di-roma/Lenia/runs/0x1pl8p7</a><br/> View project at: <a href='https://wandb.ai/alecoccia-sapienza-universit-di-roma/Lenia' target=\"_blank\">https://wandb.ai/alecoccia-sapienza-universit-di-roma/Lenia</a><br/>Synced 5 W&B file(s), 0 media file(s), 0 artifact file(s) and 0 other file(s)"
      ],
      "text/plain": [
       "<IPython.core.display.HTML object>"
      ]
     },
     "metadata": {},
     "output_type": "display_data"
    },
    {
     "data": {
      "text/html": [
       "Find logs at: <code>./wandb/run-20240826_151038-0x1pl8p7/logs</code>"
      ],
      "text/plain": [
       "<IPython.core.display.HTML object>"
      ]
     },
     "metadata": {},
     "output_type": "display_data"
    },
    {
     "data": {
      "text/html": [
       "The new W&B backend becomes opt-out in version 0.18.0; try it out with `wandb.require(\"core\")`! See https://wandb.me/wandb-core for more information."
      ],
      "text/plain": [
       "<IPython.core.display.HTML object>"
      ]
     },
     "metadata": {},
     "output_type": "display_data"
    },
    {
     "data": {
      "text/html": [
       "Tracking run with wandb version 0.17.7"
      ],
      "text/plain": [
       "<IPython.core.display.HTML object>"
      ]
     },
     "metadata": {},
     "output_type": "display_data"
    },
    {
     "data": {
      "text/html": [
       "Run data is saved locally in <code>/Users/alessandrococcia/Desktop/Lenia Tesi/src/ML/wandb/run-20240826_152718-jnyu7sfe</code>"
      ],
      "text/plain": [
       "<IPython.core.display.HTML object>"
      ]
     },
     "metadata": {},
     "output_type": "display_data"
    },
    {
     "data": {
      "text/html": [
       "Syncing run <strong><a href='https://wandb.ai/alecoccia-sapienza-universit-di-roma/Lenia/runs/jnyu7sfe' target=\"_blank\">mass</a></strong> to <a href='https://wandb.ai/alecoccia-sapienza-universit-di-roma/Lenia' target=\"_blank\">Weights & Biases</a> (<a href='https://wandb.me/run' target=\"_blank\">docs</a>)<br/>"
      ],
      "text/plain": [
       "<IPython.core.display.HTML object>"
      ]
     },
     "metadata": {},
     "output_type": "display_data"
    },
    {
     "data": {
      "text/html": [
       " View project at <a href='https://wandb.ai/alecoccia-sapienza-universit-di-roma/Lenia' target=\"_blank\">https://wandb.ai/alecoccia-sapienza-universit-di-roma/Lenia</a>"
      ],
      "text/plain": [
       "<IPython.core.display.HTML object>"
      ]
     },
     "metadata": {},
     "output_type": "display_data"
    },
    {
     "data": {
      "text/html": [
       " View run at <a href='https://wandb.ai/alecoccia-sapienza-universit-di-roma/Lenia/runs/jnyu7sfe' target=\"_blank\">https://wandb.ai/alecoccia-sapienza-universit-di-roma/Lenia/runs/jnyu7sfe</a>"
      ],
      "text/plain": [
       "<IPython.core.display.HTML object>"
      ]
     },
     "metadata": {},
     "output_type": "display_data"
    },
    {
     "name": "stdout",
     "output_type": "stream",
     "text": [
      "Model for mass is training: 99/100 | Test score: 0.8969 | Model score: 0.9059"
     ]
    },
    {
     "data": {
      "text/html": [
       "<style>\n",
       "    table.wandb td:nth-child(1) { padding: 0 10px; text-align: left ; width: auto;} td:nth-child(2) {text-align: left ; width: 100%}\n",
       "    .wandb-row { display: flex; flex-direction: row; flex-wrap: wrap; justify-content: flex-start; width: 100% }\n",
       "    .wandb-col { display: flex; flex-direction: column; flex-basis: 100%; flex: 1; padding: 10px; }\n",
       "    </style>\n",
       "<div class=\"wandb-row\"><div class=\"wandb-col\"><h3>Run history:</h3><br/><table class=\"wandb\"><tr><td>epoca</td><td>▁▁▁▁▂▂▂▂▂▃▃▃▃▃▃▄▄▄▄▄▅▅▅▅▅▅▆▆▆▆▆▇▇▇▇▇▇███</td></tr><tr><td>loss</td><td>█▄▂▂▂▂▂▂▁▁▁▁▁▁▁▁▁▁▁▁▁▁▁▁▁▁▁▁▁▁▁▁▁▁▁▁▁▁▁▁</td></tr><tr><td>testing_score</td><td>▁▄▆▆▆▆▆▆▇▇▇▇▇█▇▇████████████████████████</td></tr><tr><td>threshold</td><td>▁▁▁▁▁▁▁▁▁▁▁▁▁▁▁▁▁▁▁▁▁▁▁▁▁▁▁▁▁▁▁▁▁▁▁▁▁▁▁▁</td></tr><tr><td>training_score</td><td>▁▄▆▆▆▆▆▇▇▇▇▇▇▇▇▇▇███████████████████████</td></tr></table><br/></div><div class=\"wandb-col\"><h3>Run summary:</h3><br/><table class=\"wandb\"><tr><td>epoca</td><td>99</td></tr><tr><td>loss</td><td>0.25142</td></tr><tr><td>testing_score</td><td>0.8969</td></tr><tr><td>threshold</td><td>0</td></tr><tr><td>training_score</td><td>0.90591</td></tr></table><br/></div></div>"
      ],
      "text/plain": [
       "<IPython.core.display.HTML object>"
      ]
     },
     "metadata": {},
     "output_type": "display_data"
    },
    {
     "data": {
      "text/html": [
       " View run <strong style=\"color:#cdcd00\">mass</strong> at: <a href='https://wandb.ai/alecoccia-sapienza-universit-di-roma/Lenia/runs/jnyu7sfe' target=\"_blank\">https://wandb.ai/alecoccia-sapienza-universit-di-roma/Lenia/runs/jnyu7sfe</a><br/> View project at: <a href='https://wandb.ai/alecoccia-sapienza-universit-di-roma/Lenia' target=\"_blank\">https://wandb.ai/alecoccia-sapienza-universit-di-roma/Lenia</a><br/>Synced 5 W&B file(s), 0 media file(s), 0 artifact file(s) and 0 other file(s)"
      ],
      "text/plain": [
       "<IPython.core.display.HTML object>"
      ]
     },
     "metadata": {},
     "output_type": "display_data"
    },
    {
     "data": {
      "text/html": [
       "Find logs at: <code>./wandb/run-20240826_152718-jnyu7sfe/logs</code>"
      ],
      "text/plain": [
       "<IPython.core.display.HTML object>"
      ]
     },
     "metadata": {},
     "output_type": "display_data"
    },
    {
     "data": {
      "text/html": [
       "The new W&B backend becomes opt-out in version 0.18.0; try it out with `wandb.require(\"core\")`! See https://wandb.me/wandb-core for more information."
      ],
      "text/plain": [
       "<IPython.core.display.HTML object>"
      ]
     },
     "metadata": {},
     "output_type": "display_data"
    },
    {
     "data": {
      "text/html": [
       "Tracking run with wandb version 0.17.7"
      ],
      "text/plain": [
       "<IPython.core.display.HTML object>"
      ]
     },
     "metadata": {},
     "output_type": "display_data"
    },
    {
     "data": {
      "text/html": [
       "Run data is saved locally in <code>/Users/alessandrococcia/Desktop/Lenia Tesi/src/ML/wandb/run-20240826_155147-ircx37qs</code>"
      ],
      "text/plain": [
       "<IPython.core.display.HTML object>"
      ]
     },
     "metadata": {},
     "output_type": "display_data"
    },
    {
     "data": {
      "text/html": [
       "Syncing run <strong><a href='https://wandb.ai/alecoccia-sapienza-universit-di-roma/Lenia/runs/ircx37qs' target=\"_blank\">mass</a></strong> to <a href='https://wandb.ai/alecoccia-sapienza-universit-di-roma/Lenia' target=\"_blank\">Weights & Biases</a> (<a href='https://wandb.me/run' target=\"_blank\">docs</a>)<br/>"
      ],
      "text/plain": [
       "<IPython.core.display.HTML object>"
      ]
     },
     "metadata": {},
     "output_type": "display_data"
    },
    {
     "data": {
      "text/html": [
       " View project at <a href='https://wandb.ai/alecoccia-sapienza-universit-di-roma/Lenia' target=\"_blank\">https://wandb.ai/alecoccia-sapienza-universit-di-roma/Lenia</a>"
      ],
      "text/plain": [
       "<IPython.core.display.HTML object>"
      ]
     },
     "metadata": {},
     "output_type": "display_data"
    },
    {
     "data": {
      "text/html": [
       " View run at <a href='https://wandb.ai/alecoccia-sapienza-universit-di-roma/Lenia/runs/ircx37qs' target=\"_blank\">https://wandb.ai/alecoccia-sapienza-universit-di-roma/Lenia/runs/ircx37qs</a>"
      ],
      "text/plain": [
       "<IPython.core.display.HTML object>"
      ]
     },
     "metadata": {},
     "output_type": "display_data"
    },
    {
     "name": "stdout",
     "output_type": "stream",
     "text": [
      "Model for mass is training: 99/100 | Test score: 0.8975 | Model score: 0.9037"
     ]
    },
    {
     "data": {
      "text/html": [
       "<style>\n",
       "    table.wandb td:nth-child(1) { padding: 0 10px; text-align: left ; width: auto;} td:nth-child(2) {text-align: left ; width: 100%}\n",
       "    .wandb-row { display: flex; flex-direction: row; flex-wrap: wrap; justify-content: flex-start; width: 100% }\n",
       "    .wandb-col { display: flex; flex-direction: column; flex-basis: 100%; flex: 1; padding: 10px; }\n",
       "    </style>\n",
       "<div class=\"wandb-row\"><div class=\"wandb-col\"><h3>Run history:</h3><br/><table class=\"wandb\"><tr><td>epoca</td><td>▁▁▁▁▂▂▂▂▂▃▃▃▃▃▃▄▄▄▄▄▅▅▅▅▅▅▆▆▆▆▆▇▇▇▇▇▇███</td></tr><tr><td>loss</td><td>█▄▂▂▂▂▁▁▁▁▁▁▁▁▁▁▁▁▁▁▁▁▁▁▁▁▁▁▁▁▁▁▁▁▁▁▁▁▁▁</td></tr><tr><td>testing_score</td><td>▁▄▆▆▆▇▇▇▇▇▇▇█▇██████████████████████████</td></tr><tr><td>threshold</td><td>▁▁▁▁▁▁▁▁▁▁▁▁▁▁▁▁▁▁▁▁▁▁▁▁▁▁▁▁▁▁▁▁▁▁▁▁▁▁▁▁</td></tr><tr><td>training_score</td><td>▁▄▆▆▆▇▇▇▇▇▇▇▇▇▇█████████████████████████</td></tr></table><br/></div><div class=\"wandb-col\"><h3>Run summary:</h3><br/><table class=\"wandb\"><tr><td>epoca</td><td>99</td></tr><tr><td>loss</td><td>0.26305</td></tr><tr><td>testing_score</td><td>0.89747</td></tr><tr><td>threshold</td><td>0</td></tr><tr><td>training_score</td><td>0.90367</td></tr></table><br/></div></div>"
      ],
      "text/plain": [
       "<IPython.core.display.HTML object>"
      ]
     },
     "metadata": {},
     "output_type": "display_data"
    },
    {
     "data": {
      "text/html": [
       " View run <strong style=\"color:#cdcd00\">mass</strong> at: <a href='https://wandb.ai/alecoccia-sapienza-universit-di-roma/Lenia/runs/ircx37qs' target=\"_blank\">https://wandb.ai/alecoccia-sapienza-universit-di-roma/Lenia/runs/ircx37qs</a><br/> View project at: <a href='https://wandb.ai/alecoccia-sapienza-universit-di-roma/Lenia' target=\"_blank\">https://wandb.ai/alecoccia-sapienza-universit-di-roma/Lenia</a><br/>Synced 5 W&B file(s), 0 media file(s), 0 artifact file(s) and 0 other file(s)"
      ],
      "text/plain": [
       "<IPython.core.display.HTML object>"
      ]
     },
     "metadata": {},
     "output_type": "display_data"
    },
    {
     "data": {
      "text/html": [
       "Find logs at: <code>./wandb/run-20240826_155147-ircx37qs/logs</code>"
      ],
      "text/plain": [
       "<IPython.core.display.HTML object>"
      ]
     },
     "metadata": {},
     "output_type": "display_data"
    },
    {
     "data": {
      "text/html": [
       "The new W&B backend becomes opt-out in version 0.18.0; try it out with `wandb.require(\"core\")`! See https://wandb.me/wandb-core for more information."
      ],
      "text/plain": [
       "<IPython.core.display.HTML object>"
      ]
     },
     "metadata": {},
     "output_type": "display_data"
    },
    {
     "data": {
      "text/html": [
       "Tracking run with wandb version 0.17.7"
      ],
      "text/plain": [
       "<IPython.core.display.HTML object>"
      ]
     },
     "metadata": {},
     "output_type": "display_data"
    },
    {
     "data": {
      "text/html": [
       "Run data is saved locally in <code>/Users/alessandrococcia/Desktop/Lenia Tesi/src/ML/wandb/run-20240826_160659-r85a4v7h</code>"
      ],
      "text/plain": [
       "<IPython.core.display.HTML object>"
      ]
     },
     "metadata": {},
     "output_type": "display_data"
    },
    {
     "data": {
      "text/html": [
       "Syncing run <strong><a href='https://wandb.ai/alecoccia-sapienza-universit-di-roma/Lenia/runs/r85a4v7h' target=\"_blank\">mass</a></strong> to <a href='https://wandb.ai/alecoccia-sapienza-universit-di-roma/Lenia' target=\"_blank\">Weights & Biases</a> (<a href='https://wandb.me/run' target=\"_blank\">docs</a>)<br/>"
      ],
      "text/plain": [
       "<IPython.core.display.HTML object>"
      ]
     },
     "metadata": {},
     "output_type": "display_data"
    },
    {
     "data": {
      "text/html": [
       " View project at <a href='https://wandb.ai/alecoccia-sapienza-universit-di-roma/Lenia' target=\"_blank\">https://wandb.ai/alecoccia-sapienza-universit-di-roma/Lenia</a>"
      ],
      "text/plain": [
       "<IPython.core.display.HTML object>"
      ]
     },
     "metadata": {},
     "output_type": "display_data"
    },
    {
     "data": {
      "text/html": [
       " View run at <a href='https://wandb.ai/alecoccia-sapienza-universit-di-roma/Lenia/runs/r85a4v7h' target=\"_blank\">https://wandb.ai/alecoccia-sapienza-universit-di-roma/Lenia/runs/r85a4v7h</a>"
      ],
      "text/plain": [
       "<IPython.core.display.HTML object>"
      ]
     },
     "metadata": {},
     "output_type": "display_data"
    },
    {
     "name": "stdout",
     "output_type": "stream",
     "text": [
      "Model for mass is training: 99/100 | Test score: 0.8947 | Model score: 0.9012"
     ]
    },
    {
     "data": {
      "text/html": [
       "<style>\n",
       "    table.wandb td:nth-child(1) { padding: 0 10px; text-align: left ; width: auto;} td:nth-child(2) {text-align: left ; width: 100%}\n",
       "    .wandb-row { display: flex; flex-direction: row; flex-wrap: wrap; justify-content: flex-start; width: 100% }\n",
       "    .wandb-col { display: flex; flex-direction: column; flex-basis: 100%; flex: 1; padding: 10px; }\n",
       "    </style>\n",
       "<div class=\"wandb-row\"><div class=\"wandb-col\"><h3>Run history:</h3><br/><table class=\"wandb\"><tr><td>epoca</td><td>▁▁▁▁▂▂▂▂▂▃▃▃▃▃▃▄▄▄▄▄▅▅▅▅▅▅▆▆▆▆▆▇▇▇▇▇▇███</td></tr><tr><td>loss</td><td>█▄▂▂▂▂▁▁▁▁▁▁▁▁▁▁▁▁▁▁▁▁▁▁▁▁▁▁▁▁▁▁▁▁▁▁▁▁▁▁</td></tr><tr><td>testing_score</td><td>▁▄▆▇▇▇▇▇▇▇▇▇█▇▇▇▇███████████████████████</td></tr><tr><td>threshold</td><td>▁▁▁▁▁▁▁▁▁▁▁▁▁▁▁▁▁▁▁▁▁▁▁▁▁▁▁▁▁▁▁▁▁▁▁▁▁▁▁▁</td></tr><tr><td>training_score</td><td>▁▄▆▆▇▇▇▇▇▇▇▇████████████████████████████</td></tr></table><br/></div><div class=\"wandb-col\"><h3>Run summary:</h3><br/><table class=\"wandb\"><tr><td>epoca</td><td>99</td></tr><tr><td>loss</td><td>0.26082</td></tr><tr><td>testing_score</td><td>0.8947</td></tr><tr><td>threshold</td><td>0</td></tr><tr><td>training_score</td><td>0.90117</td></tr></table><br/></div></div>"
      ],
      "text/plain": [
       "<IPython.core.display.HTML object>"
      ]
     },
     "metadata": {},
     "output_type": "display_data"
    },
    {
     "data": {
      "text/html": [
       " View run <strong style=\"color:#cdcd00\">mass</strong> at: <a href='https://wandb.ai/alecoccia-sapienza-universit-di-roma/Lenia/runs/r85a4v7h' target=\"_blank\">https://wandb.ai/alecoccia-sapienza-universit-di-roma/Lenia/runs/r85a4v7h</a><br/> View project at: <a href='https://wandb.ai/alecoccia-sapienza-universit-di-roma/Lenia' target=\"_blank\">https://wandb.ai/alecoccia-sapienza-universit-di-roma/Lenia</a><br/>Synced 5 W&B file(s), 0 media file(s), 0 artifact file(s) and 0 other file(s)"
      ],
      "text/plain": [
       "<IPython.core.display.HTML object>"
      ]
     },
     "metadata": {},
     "output_type": "display_data"
    },
    {
     "data": {
      "text/html": [
       "Find logs at: <code>./wandb/run-20240826_160659-r85a4v7h/logs</code>"
      ],
      "text/plain": [
       "<IPython.core.display.HTML object>"
      ]
     },
     "metadata": {},
     "output_type": "display_data"
    },
    {
     "data": {
      "text/html": [
       "The new W&B backend becomes opt-out in version 0.18.0; try it out with `wandb.require(\"core\")`! See https://wandb.me/wandb-core for more information."
      ],
      "text/plain": [
       "<IPython.core.display.HTML object>"
      ]
     },
     "metadata": {},
     "output_type": "display_data"
    }
   ],
   "source": [
    "import wandb\n",
    "import numpy as np\n",
    "from sklearn.neural_network import MLPClassifier\n",
    "import sys\n",
    "results4 = final_df\n",
    "\n",
    "out = ['averageLinearSpeed', 'averageVariance', 'averageMass']\n",
    "training_parameter_batch = [{\"max_iter\":100,\"out_column\": \"mass\", \"alpha\": 0.2, \"learning_rate_init\": 0.001, \"tag\": \"mass\", \"hidden_layer_sizes\":(60, 60, 60, 60),\"learning_rate\": \"adaptive\", \"threshold\": 0},\n",
    "                            {\"max_iter\":100,\"out_column\": \"mass\", \"alpha\": 0.2, \"learning_rate_init\": 0.001, \"tag\": \"mass\", \"hidden_layer_sizes\":(60, 60, 60, 60, 60),\"learning_rate\": \"adaptive\", \"threshold\": 0},\n",
    "                            {\"max_iter\":100,\"out_column\": \"mass\", \"alpha\": 0.2, \"learning_rate_init\": 0.001, \"tag\": \"mass\", \"hidden_layer_sizes\":(60, 60, 60),\"learning_rate\": \"adaptive\", \"threshold\": 0},\n",
    "                            {\"max_iter\":100,\"out_column\": \"mass\", \"alpha\": 0.2, \"learning_rate_init\": 0.001, \"tag\": \"mass\", \"hidden_layer_sizes\":(50, 50, 50, 50),\"learning_rate\": \"adaptive\", \"threshold\": 0}\n",
    "                            ]\n",
    "for batch in training_parameter_batch:\n",
    "    out_column = \"mass\"\n",
    "    # Inizializza una run su W&B\n",
    "    wandb.init(project=\"Lenia\", name=out_column, config={\n",
    "        \"learning_rate\": \"adaptive\",\n",
    "        \"learning_rate_init\": batch['learning_rate_init'],\n",
    "        \"alpha\": batch['alpha'],\n",
    "        \"hidden_layer_sizes\": batch['hidden_layer_sizes'],\n",
    "        \"max_iter\": batch['max_iter']}, \n",
    "        tags=batch['tag'],\n",
    "        )\n",
    "    dataset = results4.sample(frac=1, random_state=42).reset_index(drop=True)\n",
    "    mean = dataset.mean()[1:]\n",
    "    std = dataset.std()[1:]\n",
    "\n",
    "    wandb.log({\"mean\": mean.to_dict(), \"std\": std.to_dict()})\n",
    "\n",
    "    TRAIN_TEST_SPLIT_PERCENTAGE = 0.9\n",
    "    dataset_training = dataset[:int(len(dataset) * TRAIN_TEST_SPLIT_PERCENTAGE)]\n",
    "    dataset_test = dataset[int(len(dataset) * TRAIN_TEST_SPLIT_PERCENTAGE):]\n",
    "\n",
    "    # Separare le caratteristiche (X) e il target (y)\n",
    "    X = dataset_training.drop(columns=[out_column])  # tutte le colonne tranne out_string\n",
    "    y = dataset_training[out_column]  # solo la colonna out_string\n",
    "\n",
    "    # Lo stesso per il set di test\n",
    "    X_test = dataset_test.drop(columns=[out_column])\n",
    "    y_test = dataset_test[out_column]\n",
    "\n",
    "    # Convertire i valori di y e y_test in binari\n",
    "    y = y.apply(lambda x: 1 if x > batch[\"threshold\"] else 0)\n",
    "    y_test = y_test.apply(lambda x: 1 if x > batch[\"threshold\"] else 0)\n",
    "\n",
    "    \"normalizzazione\"\n",
    "    X = (X - mean) / std\n",
    "    X_test = (X_test - mean) / std\n",
    "\n",
    "    \"colonna bias\"\n",
    "    X_test['bias'] = 1\n",
    "    X['bias'] = 1\n",
    "    \n",
    "    classes = np.unique(y)\n",
    "\n",
    "    # Crea il modello MLPClassifier\n",
    "    mlp = MLPClassifier(hidden_layer_sizes=batch['hidden_layer_sizes'], max_iter=batch['max_iter'], random_state=42, \n",
    "                    learning_rate=batch['learning_rate'], alpha=batch['alpha'], learning_rate_init=batch['learning_rate_init'])\n",
    "\n",
    "    # Addestra il modello con una barra di progresso e registra su W&B\n",
    "    for i in range(mlp.max_iter):\n",
    "        if i == 0:\n",
    "            mlp.partial_fit(X, y, classes=classes)\n",
    "        else:\n",
    "            mlp.partial_fit(X, y)\n",
    "        training_results = mlp.score(X, y)\n",
    "        testing_results = mlp.score(X_test, y_test)\n",
    "\n",
    "        # Registra i dati su W&B\n",
    "        wandb.log({\n",
    "            \"epoca\": i, \n",
    "            \"training_score\": training_results, \n",
    "            \"testing_score\": testing_results, \n",
    "            \"loss\": mlp.loss_, \n",
    "            \"threshold\": batch[\"threshold\"]\n",
    "        })\n",
    "        sys.stdout.write(f\"\\rModel for {out_column} is training: {i}/{mlp.max_iter} | Test score: {testing_results:.4f} | Model score: {training_results:.4f}\")\n",
    "        sys.stdout.flush()\n",
    "\n",
    "    # Termina la run su W&B\n",
    "    wandb.finish()\n"
   ]
  },
  {
   "cell_type": "code",
   "execution_count": 14,
   "metadata": {},
   "outputs": [
    {
     "data": {
      "image/png": "[encoded data removed]",
      "text/plain": [
       "<Figure size 640x480 with 2 Axes>"
      ]
     },
     "metadata": {},
     "output_type": "display_data"
    },
    {
     "name": "stdout",
     "output_type": "stream",
     "text": [
      "Accuracy: 0.9053\n",
      "F1 Score: 0.9053\n",
      "Classe 0: Precisione: 0.7845, Richiamo: 0.7832\n",
      "Classe 1: Precisione: 0.9392, Richiamo: 0.9396\n"
     ]
    }
   ],
   "source": [
    "# Importa le librerie necessarie\n",
    "from sklearn.metrics import confusion_matrix, ConfusionMatrixDisplay, accuracy_score, precision_score, recall_score, f1_score\n",
    "import matplotlib.pyplot as plt\n",
    "\n",
    "# Fai le predizioni sul set di test\n",
    "y_pred = mlp.predict(X_test)\n",
    "\n",
    "# Calcola la confusion matrix\n",
    "cm = confusion_matrix(y_test, y_pred)\n",
    "\n",
    "# Visualizza la confusion matrix\n",
    "disp = ConfusionMatrixDisplay(confusion_matrix=cm)\n",
    "disp.plot(cmap=plt.cm.Blues)\n",
    "plt.title('Confusion Matrix')\n",
    "plt.show()\n",
    "\n",
    "# Calcola altre metriche globali\n",
    "accuracy = accuracy_score(y_test, y_pred)\n",
    "f1 = f1_score(y_test, y_pred, average='weighted')\n",
    "\n",
    "# Calcola precisione e richiamo per ciascuna classe\n",
    "precision_per_class = precision_score(y_test, y_pred, average=None)\n",
    "recall_per_class = recall_score(y_test, y_pred, average=None)\n",
    "\n",
    "# Stampa le metriche globali\n",
    "print(f'Accuracy: {accuracy:.4f}')\n",
    "print(f'F1 Score: {f1:.4f}')\n",
    "\n",
    "# Stampa precisione e richiamo per ciascuna classe\n",
    "for i, (precision, recall) in enumerate(zip(precision_per_class, recall_per_class)):\n",
    "    print(f'Classe {i}: Precisione: {precision:.4f}, Richiamo: {recall:.4f}')"
   ]
  }
 ],
 "metadata": {
  "kernelspec": {
   "display_name": "Python 3",
   "language": "python",
   "name": "python3"
  },
  "language_info": {
   "codemirror_mode": {
    "name": "ipython",
    "version": 3
   },
   "file_extension": ".py",
   "mimetype": "text/x-python",
   "name": "python",
   "nbconvert_exporter": "python",
   "pygments_lexer": "ipython3",
   "version": "3.12.0"
  }
 },
 "nbformat": 4,
 "nbformat_minor": 2
}
